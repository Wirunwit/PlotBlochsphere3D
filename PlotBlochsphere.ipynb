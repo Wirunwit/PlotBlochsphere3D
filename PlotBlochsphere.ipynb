{
 "cells": [
  {
   "cell_type": "code",
   "execution_count": null,
   "id": "220cc53e",
   "metadata": {},
   "outputs": [],
   "source": [
    "import numpy as np\n",
    "import qutip\n",
    "import time\n",
    "import math\n",
    "start_time = time.time()\n",
    "\n",
    "b = qutip.Bloch3d()\n",
    "#pnt = [1./np.sqrt(3), 1./np.sqrt(3), 1./np.sqrt(3)]\n",
    "#b.add_points(pnt)\n",
    "vec = np.array([0, 0, 1], dtype=float)  # 1/math.sqrt(2)\n",
    "b.add_vectors(vec)\n",
    "#up = qutip.basis(1, 0)\n",
    "#b.add_states(up)\n",
    "b.vector_color=['deeppink']\n",
    "b.size=[5000,5000]\n",
    "b.save(dirc='Desktop/Bloch_Sphere')\n",
    "\n",
    "# Insert the code here\n",
    "\n",
    "end_time = time.time()\n",
    "\n",
    "print(\"Execution time: {:.2f} seconds\".format(end_time - start_time))\n"
   ]
  }
 ],
 "metadata": {
  "kernelspec": {
   "display_name": "Python 3 (ipykernel)",
   "language": "python",
   "name": "python3"
  },
  "language_info": {
   "codemirror_mode": {
    "name": "ipython",
    "version": 3
   },
   "file_extension": ".py",
   "mimetype": "text/x-python",
   "name": "python",
   "nbconvert_exporter": "python",
   "pygments_lexer": "ipython3",
   "version": "3.9.7"
  }
 },
 "nbformat": 4,
 "nbformat_minor": 5
}
